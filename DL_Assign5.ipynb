{
 "cells": [
  {
   "cell_type": "code",
   "execution_count": 1,
   "id": "b45386a6",
   "metadata": {},
   "outputs": [],
   "source": [
    "import pandas as pd\n"
   ]
  },
  {
   "cell_type": "code",
   "execution_count": 5,
   "id": "714aaaba",
   "metadata": {},
   "outputs": [],
   "source": [
    "import matplotlib.pyplot as plt\n",
    "import seaborn as sns\n",
    "import  matplotlib as mpl\n",
    "import matplotlib.pylab as pylab\n",
    "import numpy as np\n",
    "%matplotlib inline"
   ]
  },
  {
   "cell_type": "code",
   "execution_count": 6,
   "id": "e23c00b0",
   "metadata": {},
   "outputs": [],
   "source": [
    "import re"
   ]
  },
  {
   "cell_type": "code",
   "execution_count": 7,
   "id": "89905880",
   "metadata": {},
   "outputs": [],
   "source": [
    "sentences=\"\"\"We are about to study the idea of a computational process.\n",
    "Computational processes are abstract beings that inhabit computers.\n",
    "As they evolve,processes manipulate other abstract things called data.\n",
    "The evolution of a process is directed by a pattern of rules called a program.\n",
    "People create programs to direct processes.In effect,\n",
    "we conjure the spirits of the computer with our spells.\"\"\""
   ]
  },
  {
   "cell_type": "code",
   "execution_count": 9,
   "id": "3dd36c4c",
   "metadata": {},
   "outputs": [],
   "source": [
    "sentences=re.sub('[^A-Za-z0-9]+',' ',sentences)\n",
    "sentences=re.sub(r'(?:^| )\\w(?:$| )',' ',sentences).strip()\n",
    "sentences=sentences.lower()"
   ]
  },
  {
   "cell_type": "code",
   "execution_count": 10,
   "id": "668494ea",
   "metadata": {},
   "outputs": [],
   "source": [
    "words=sentences.split()\n",
    "vocab=set(words)"
   ]
  },
  {
   "cell_type": "code",
   "execution_count": 11,
   "id": "cd385eec",
   "metadata": {},
   "outputs": [],
   "source": [
    "vocab_size=len(vocab)\n",
    "embed_dim=10\n",
    "context_size=2"
   ]
  },
  {
   "cell_type": "code",
   "execution_count": 49,
   "id": "4c16bc0b",
   "metadata": {},
   "outputs": [],
   "source": [
    "word_to_ix={word:i for i,word in enumerate(vocab)}\n",
    "ix_to_word={i:word for i,word in enumerate(vocab)}\n"
   ]
  },
  {
   "cell_type": "code",
   "execution_count": 50,
   "id": "e0ab28bf",
   "metadata": {},
   "outputs": [
    {
     "name": "stdout",
     "output_type": "stream",
     "text": [
      "[(['we', 'are', 'to', 'study'], 'about'), (['are', 'about', 'study', 'the'], 'to'), (['about', 'to', 'the', 'idea'], 'study'), (['to', 'study', 'idea', 'of'], 'the'), (['study', 'the', 'of', 'computational'], 'idea')]\n"
     ]
    }
   ],
   "source": [
    "data=[]\n",
    "for i in range(2,len(words)-2):\n",
    "    context=[words[i-2],words[i-1],words[i+1],words[i+2]]\n",
    "    target=words[i]\n",
    "    data.append((context,target))\n",
    "print(data[:5])    "
   ]
  },
  {
   "cell_type": "code",
   "execution_count": 51,
   "id": "26f052f7",
   "metadata": {},
   "outputs": [],
   "source": [
    "embeddings=np.random.random_sample((vocab_size,embed_dim))"
   ]
  },
  {
   "cell_type": "code",
   "execution_count": 52,
   "id": "b2eeeaf2",
   "metadata": {},
   "outputs": [],
   "source": [
    "def linear(m,theta):\n",
    "    w=theta\n",
    "    return m.dot(w)"
   ]
  },
  {
   "cell_type": "code",
   "execution_count": 53,
   "id": "9f04bf17",
   "metadata": {},
   "outputs": [],
   "source": [
    "def log_softmax(x):\n",
    "    e_x=np.exp(x-np.max(x))\n",
    "    return np.log(e_x / e_x.sum())"
   ]
  },
  {
   "cell_type": "code",
   "execution_count": 54,
   "id": "6283352d",
   "metadata": {},
   "outputs": [],
   "source": [
    "def NLLLoss(logs,targets):\n",
    "    out=logs[range(len(targets)),targets]\n",
    "    return -out.sum()/len(out)"
   ]
  },
  {
   "cell_type": "code",
   "execution_count": 55,
   "id": "5055cc8d",
   "metadata": {},
   "outputs": [],
   "source": [
    "def log_softmax_crossentropy_with_logits (logits, target): \n",
    "    \n",
    "    out = np. zeros_like(logits)\n",
    "    out [np.arange(len(logits)), target] = 1\n",
    "    \n",
    "    softmax = np.exp(logits) / np.exp(logits).sum(axis=-1, keepdims=True)\n",
    "\n",
    "    return (-out+softmax) /logits.shape[0]"
   ]
  },
  {
   "cell_type": "code",
   "execution_count": 56,
   "id": "ee78b22f",
   "metadata": {},
   "outputs": [],
   "source": [
    "def forward(context_idxs, theta):\n",
    "    m=embeddings [context_idxs].reshape(1, -1)\n",
    "    n=linear(m, theta)\n",
    "    o = log_softmax(n)\n",
    "\n",
    "    return m, n, o"
   ]
  },
  {
   "cell_type": "code",
   "execution_count": 57,
   "id": "4df61532",
   "metadata": {},
   "outputs": [],
   "source": [
    "def backward(preds, theta, target_idxs):\n",
    "    m, n, o =preds\n",
    "\n",
    "    dlog=log_softmax_crossentropy_with_logits (n, target_idxs)\n",
    "    dw=m.T.dot (dlog)\n",
    "\n",
    "    return dw"
   ]
  },
  {
   "cell_type": "code",
   "execution_count": 58,
   "id": "ddd2f4ed",
   "metadata": {},
   "outputs": [],
   "source": [
    "def optimize(theta, grad, Ir=0.03):\n",
    "    theta-= grad*Ir\n",
    "    return theta"
   ]
  },
  {
   "cell_type": "code",
   "execution_count": 59,
   "id": "ceef8e08",
   "metadata": {},
   "outputs": [],
   "source": [
    "theta=np.random.uniform(-1,1,(2*context_size*embed_dim,vocab_size))"
   ]
  },
  {
   "cell_type": "code",
   "execution_count": 60,
   "id": "83a8b922",
   "metadata": {},
   "outputs": [],
   "source": [
    "epoch_losses={}\n",
    "\n",
    "for epoch in range(80):\n",
    "\n",
    "    losses = []\n",
    "\n",
    "    for context, target in data:\n",
    "\n",
    "        context_idxs= np.array([word_to_ix[w] for w in context]) \n",
    "        preds = forward(context_idxs, theta)\n",
    "\n",
    "        target_idxs= np.array([word_to_ix[target]]) \n",
    "        loss= NLLLoss(preds[-1], target_idxs)\n",
    "\n",
    "        losses.append(loss)\n",
    "\n",
    "\n",
    "        grad = backward(preds, theta, target_idxs)\n",
    "        theta = optimize(theta, grad, Ir=0.03)\n",
    "\n",
    "\n",
    "\n",
    "    epoch_losses [epoch] = losses"
   ]
  },
  {
   "cell_type": "code",
   "execution_count": 61,
   "id": "e7eb785b",
   "metadata": {},
   "outputs": [
    {
     "data": {
      "text/plain": [
       "Text(0, 0.5, 'Losses')"
      ]
     },
     "execution_count": 61,
     "metadata": {},
     "output_type": "execute_result"
    },
    {
     "data": {
      "image/png": "[encoded data removed]",
      "text/plain": [
       "<Figure size 640x480 with 1 Axes>"
      ]
     },
     "metadata": {},
     "output_type": "display_data"
    }
   ],
   "source": [
    "ix= np.arange(0,80)\n",
    "fig= plt.figure()\n",
    "\n",
    "fig.suptitle('Epoch/Losses', fontsize=20)\n",
    "\n",
    "\n",
    "\n",
    "plt.plot(ix, [epoch_losses[i][8] for i in ix]) \n",
    "plt.xlabel('Epochs', fontsize=12)\n",
    "\n",
    "plt.ylabel('Losses', fontsize=12)"
   ]
  },
  {
   "cell_type": "code",
   "execution_count": 62,
   "id": "4518f818",
   "metadata": {},
   "outputs": [],
   "source": [
    "def predict(words): \n",
    "    context_idxs = np.array([word_to_ix[w] for w in words])\n",
    "\n",
    "    preds = forward(context_idxs, theta) \n",
    "    word = ix_to_word[np.argmax(preds[-1])]\n",
    "\n",
    "    return word"
   ]
  },
  {
   "cell_type": "code",
   "execution_count": 63,
   "id": "a8e2a256",
   "metadata": {},
   "outputs": [
    {
     "data": {
      "text/plain": [
       "'about'"
      ]
     },
     "execution_count": 63,
     "metadata": {},
     "output_type": "execute_result"
    }
   ],
   "source": [
    "predict(['we','are','to','study'])"
   ]
  },
  {
   "cell_type": "code",
   "execution_count": 64,
   "id": "8def4fbf",
   "metadata": {},
   "outputs": [],
   "source": [
    "def accuracy():\n",
    "    wrong=0\n",
    "    \n",
    "    for context, target in data:\n",
    "        if(predict(context)!=target):\n",
    "            wrong+=1\n",
    "        \n",
    "    return (1-(wrong/ len(data)))            "
   ]
  },
  {
   "cell_type": "code",
   "execution_count": 65,
   "id": "fa4b2186",
   "metadata": {},
   "outputs": [
    {
     "data": {
      "text/plain": [
       "1.0"
      ]
     },
     "execution_count": 65,
     "metadata": {},
     "output_type": "execute_result"
    }
   ],
   "source": [
    "accuracy()"
   ]
  },
  {
   "cell_type": "code",
   "execution_count": 66,
   "id": "c651d1f2",
   "metadata": {},
   "outputs": [
    {
     "data": {
      "text/plain": [
       "'abstract'"
      ]
     },
     "execution_count": 66,
     "metadata": {},
     "output_type": "execute_result"
    }
   ],
   "source": [
    "predict(['processes','manipulate','things','study'])"
   ]
  },
  {
   "cell_type": "code",
   "execution_count": null,
   "id": "b1edbbbf",
   "metadata": {},
   "outputs": [],
   "source": []
  }
 ],
 "metadata": {
  "kernelspec": {
   "display_name": "Python 3 (ipykernel)",
   "language": "python",
   "name": "python3"
  },
  "language_info": {
   "codemirror_mode": {
    "name": "ipython",
    "version": 3
   },
   "file_extension": ".py",
   "mimetype": "text/x-python",
   "name": "python",
   "nbconvert_exporter": "python",
   "pygments_lexer": "ipython3",
   "version": "3.10.8"
  }
 },
 "nbformat": 4,
 "nbformat_minor": 5
}
